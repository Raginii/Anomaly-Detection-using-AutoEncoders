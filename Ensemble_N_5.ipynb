{
 "cells": [
  {
   "cell_type": "markdown",
   "metadata": {},
   "source": [
    "# Ensemble Method for N= 5\n"
   ]
  },
  {
   "cell_type": "code",
   "execution_count": 2,
   "metadata": {},
   "outputs": [
    {
     "name": "stdout",
     "output_type": "stream",
     "text": [
      "Data extraction : Success\n"
     ]
    }
   ],
   "source": [
    "import pandas as pd\n",
    "import numpy as np\n",
    "from sklearn.model_selection import train_test_split\n",
    "from sklearn.naive_bayes import GaussianNB\n",
    "from sklearn.model_selection import cross_val_score\n",
    "from sklearn.tree import DecisionTreeClassifier\n",
    "from sklearn.model_selection import GridSearchCV\n",
    "from sklearn.ensemble import RandomForestClassifier\n",
    "from sklearn.datasets import make_classification\n",
    "from time import time\n",
    "from operator import itemgetter\n",
    "from sklearn.svm import SVC\n",
    "from sklearn import metrics\n",
    "\n",
    "#### Get data\n",
    "benign = pd.read_csv('dev1/benign_traffic.csv')\n",
    "benign['class'] = 0\n",
    "\n",
    "g_combo = pd.read_csv('dev1/gafgyt_attacks/combo.csv')\n",
    "g_combo['class'] = 1\n",
    "#print g_combo.columns.values\n",
    "\n",
    "g_junk = pd.read_csv('dev1/gafgyt_attacks/junk.csv')\n",
    "g_junk['class'] = 1\n",
    "#print g_junk.columns.values\n",
    "\n",
    "g_scan = pd.read_csv('dev1/gafgyt_attacks/scan.csv')\n",
    "g_scan['class'] = 1\n",
    "#print g_scan.columns.values\n",
    "\n",
    "g_tcp = pd.read_csv('dev1/gafgyt_attacks/tcp.csv')\n",
    "g_tcp['class'] = 1\n",
    "#print g_tcp.columns.values\n",
    "\n",
    "g_udp = pd.read_csv('dev1/gafgyt_attacks/udp.csv')\n",
    "g_udp['class'] = 1\n",
    "#print g_udp.columns.values\n",
    "\n",
    "m_ack = pd.read_csv('dev1/mirai_attacks/ack.csv')\n",
    "m_ack['class'] = 1\n",
    "#print m_ack.columns.values\n",
    "\n",
    "m_scan = pd.read_csv('dev1/mirai_attacks/scan.csv')\n",
    "m_scan['class'] = 1\n",
    "#print m_scan.columns.values\n",
    "\n",
    "m_syn = pd.read_csv('dev1/mirai_attacks/syn.csv')\n",
    "m_syn['class'] = 1\n",
    "#print m_syn.columns.values\n",
    "\n",
    "m_udp = pd.read_csv('dev1/mirai_attacks/udp.csv')\n",
    "m_udp['class'] = 1\n",
    "#print m_udp.columns.values\n",
    "\n",
    "m_udpplain = pd.read_csv('dev1/mirai_attacks/udpplain.csv')\n",
    "m_udpplain['class'] = 1\n",
    "#print m_udpplain.columns.values\n",
    "\n",
    "print(\"Data extraction : Success\")\n",
    "\n"
   ]
  },
  {
   "cell_type": "code",
   "execution_count": 3,
   "metadata": {},
   "outputs": [
    {
     "name": "stdout",
     "output_type": "stream",
     "text": [
      "26930\n",
      "Data Randomized\n"
     ]
    }
   ],
   "source": [
    "malicious = pd.concat([g_combo, g_junk, g_scan, g_tcp,\n",
    "                     g_udp, m_ack, m_scan, m_syn, m_udp, m_udpplain])\n",
    "\n",
    "from sklearn.utils import shuffle\n",
    "benign = shuffle(benign)\n",
    "malicious = shuffle(malicious)\n",
    "\n",
    "n = len(benign)\n",
    "benignVal = benign[:int(n / 6)]\n",
    "benignTest = benign[int(5 * n / 6):]\n",
    "benignTrain = benign[int(n / 6):int(5 * n / 6)]\n",
    "\n",
    "n = len(malicious)\n",
    "maliciousVal = malicious[:int(n / 2)]\n",
    "maliciousTest = malicious[int(n / 2):]\n",
    "\n",
    "dataTest = pd.concat([benignTest, maliciousTest])\n",
    "dataVal = pd.concat([benignVal, maliciousVal])\n",
    "\n",
    "from sklearn.preprocessing import normalize\n",
    "\n",
    "\n",
    "print(len(benignTrain))\n",
    "print(\"Data Randomized\")\n",
    "\n",
    "l = list(benignTrain)\n",
    "l.remove('class')\n",
    "\n",
    "X = benignTrain[l]\n",
    "y = benignTrain['class']\n",
    "X = normalize(X)\n",
    "\n",
    "Xval = dataVal[l]\n",
    "yval = dataVal['class']\n",
    "Xval = normalize(Xval)\n",
    "\n",
    "XTest = dataTest[l]\n",
    "yTest = dataTest['class']\n",
    "XTest = normalize(XTest)\n",
    "\n",
    "\n",
    "\n",
    "\n",
    "#print(np.shape(X_train), np.shape(X_test), np.shape(y_train), np.shape(y_test))\n",
    "#print(np.shape(dataVal), np.shape(benignTrain))\n"
   ]
  },
  {
   "cell_type": "code",
   "execution_count": 4,
   "metadata": {
    "scrolled": false
   },
   "outputs": [
    {
     "name": "stderr",
     "output_type": "stream",
     "text": [
      "Using TensorFlow backend.\n"
     ]
    },
    {
     "name": "stdout",
     "output_type": "stream",
     "text": [
      "Train on 3770 samples, validate on 1616 samples\n",
      "Epoch 1/30\n",
      "3770/3770 [==============================] - 2s 415us/step - loss: 0.6904 - val_loss: 0.6872\n",
      "Epoch 2/30\n",
      "3770/3770 [==============================] - 0s 24us/step - loss: 0.6854 - val_loss: 0.6817\n",
      "Epoch 3/30\n",
      "3770/3770 [==============================] - 0s 25us/step - loss: 0.6795 - val_loss: 0.6748\n",
      "Epoch 4/30\n",
      "3770/3770 [==============================] - 0s 25us/step - loss: 0.6718 - val_loss: 0.6652\n",
      "Epoch 5/30\n",
      "3770/3770 [==============================] - 0s 23us/step - loss: 0.6608 - val_loss: 0.6508\n",
      "Epoch 6/30\n",
      "3770/3770 [==============================] - 0s 22us/step - loss: 0.6436 - val_loss: 0.6273\n",
      "Epoch 7/30\n",
      "3770/3770 [==============================] - 0s 23us/step - loss: 0.6148 - val_loss: 0.5859\n",
      "Epoch 8/30\n",
      "3770/3770 [==============================] - 0s 27us/step - loss: 0.5637 - val_loss: 0.5127\n",
      "Epoch 9/30\n",
      "3770/3770 [==============================] - 0s 26us/step - loss: 0.4762 - val_loss: 0.3990\n",
      "Epoch 10/30\n",
      "3770/3770 [==============================] - 0s 24us/step - loss: 0.3550 - val_loss: 0.2775\n",
      "Epoch 11/30\n",
      "3770/3770 [==============================] - 0s 26us/step - loss: 0.2474 - val_loss: 0.2043\n",
      "Epoch 12/30\n",
      "3770/3770 [==============================] - 0s 25us/step - loss: 0.1921 - val_loss: 0.1757\n",
      "Epoch 13/30\n",
      "3770/3770 [==============================] - 0s 23us/step - loss: 0.1708 - val_loss: 0.1637\n",
      "Epoch 14/30\n",
      "3770/3770 [==============================] - 0s 23us/step - loss: 0.1612 - val_loss: 0.1573\n",
      "Epoch 15/30\n",
      "3770/3770 [==============================] - 0s 22us/step - loss: 0.1559 - val_loss: 0.1533\n",
      "Epoch 16/30\n",
      "3770/3770 [==============================] - 0s 23us/step - loss: 0.1525 - val_loss: 0.1506\n",
      "Epoch 17/30\n",
      "3770/3770 [==============================] - 0s 29us/step - loss: 0.1502 - val_loss: 0.1488\n",
      "Epoch 18/30\n",
      "3770/3770 [==============================] - 0s 24us/step - loss: 0.1485 - val_loss: 0.1475\n",
      "Epoch 19/30\n",
      "3770/3770 [==============================] - 0s 24us/step - loss: 0.1474 - val_loss: 0.1465\n",
      "Epoch 20/30\n",
      "3770/3770 [==============================] - 0s 27us/step - loss: 0.1465 - val_loss: 0.1457\n",
      "Epoch 21/30\n",
      "3770/3770 [==============================] - 0s 21us/step - loss: 0.1458 - val_loss: 0.1451\n",
      "Epoch 22/30\n",
      "3770/3770 [==============================] - 0s 28us/step - loss: 0.1452 - val_loss: 0.1445\n",
      "Epoch 23/30\n",
      "3770/3770 [==============================] - 0s 23us/step - loss: 0.1448 - val_loss: 0.1441\n",
      "Epoch 24/30\n",
      "3770/3770 [==============================] - 0s 24us/step - loss: 0.1444 - val_loss: 0.1437\n",
      "Epoch 25/30\n",
      "3770/3770 [==============================] - 0s 22us/step - loss: 0.1440 - val_loss: 0.1434\n",
      "Epoch 26/30\n",
      "3770/3770 [==============================] - 0s 20us/step - loss: 0.1437 - val_loss: 0.1431\n",
      "Epoch 27/30\n",
      "3770/3770 [==============================] - 0s 27us/step - loss: 0.1435 - val_loss: 0.1429\n",
      "Epoch 28/30\n",
      "3770/3770 [==============================] - 0s 20us/step - loss: 0.1432 - val_loss: 0.1426\n",
      "Epoch 29/30\n",
      "3770/3770 [==============================] - 0s 19us/step - loss: 0.1430 - val_loss: 0.1424\n",
      "Epoch 30/30\n",
      "3770/3770 [==============================] - 0s 25us/step - loss: 0.1428 - val_loss: 0.1422\n",
      "Train on 3770 samples, validate on 1616 samples\n",
      "Epoch 1/30\n",
      "3770/3770 [==============================] - 0s 121us/step - loss: 0.6931 - val_loss: 0.6898\n",
      "Epoch 2/30\n",
      "3770/3770 [==============================] - 0s 18us/step - loss: 0.6882 - val_loss: 0.6849\n",
      "Epoch 3/30\n",
      "3770/3770 [==============================] - 0s 20us/step - loss: 0.6831 - val_loss: 0.6794\n",
      "Epoch 4/30\n",
      "3770/3770 [==============================] - 0s 24us/step - loss: 0.6772 - val_loss: 0.6726\n",
      "Epoch 5/30\n",
      "3770/3770 [==============================] - 0s 19us/step - loss: 0.6698 - val_loss: 0.6635\n",
      "Epoch 6/30\n",
      "3770/3770 [==============================] - 0s 18us/step - loss: 0.6594 - val_loss: 0.6499\n",
      "Epoch 7/30\n",
      "3770/3770 [==============================] - 0s 23us/step - loss: 0.6434 - val_loss: 0.6277\n",
      "Epoch 8/30\n",
      "3770/3770 [==============================] - 0s 26us/step - loss: 0.6164 - val_loss: 0.5888\n",
      "Epoch 9/30\n",
      "3770/3770 [==============================] - 0s 22us/step - loss: 0.5682 - val_loss: 0.5177\n",
      "Epoch 10/30\n",
      "3770/3770 [==============================] - 0s 26us/step - loss: 0.4820 - val_loss: 0.4013\n",
      "Epoch 11/30\n",
      "3770/3770 [==============================] - 0s 22us/step - loss: 0.3565 - val_loss: 0.2733\n",
      "Epoch 12/30\n",
      "3770/3770 [==============================] - 0s 22us/step - loss: 0.2440 - val_loss: 0.2003\n",
      "Epoch 13/30\n",
      "3770/3770 [==============================] - 0s 23us/step - loss: 0.1889 - val_loss: 0.1736\n",
      "Epoch 14/30\n",
      "3770/3770 [==============================] - 0s 19us/step - loss: 0.1685 - val_loss: 0.1627\n",
      "Epoch 15/30\n",
      "3770/3770 [==============================] - 0s 20us/step - loss: 0.1595 - val_loss: 0.1569\n",
      "Epoch 16/30\n",
      "3770/3770 [==============================] - 0s 23us/step - loss: 0.1544 - val_loss: 0.1532\n",
      "Epoch 17/30\n",
      "3770/3770 [==============================] - ETA: 0s - loss: 0.151 - 0s 28us/step - loss: 0.1512 - val_loss: 0.1508\n",
      "Epoch 18/30\n",
      "3770/3770 [==============================] - 0s 21us/step - loss: 0.1490 - val_loss: 0.1491\n",
      "Epoch 19/30\n",
      "3770/3770 [==============================] - 0s 27us/step - loss: 0.1475 - val_loss: 0.1479\n",
      "Epoch 20/30\n",
      "3770/3770 [==============================] - 0s 18us/step - loss: 0.1463 - val_loss: 0.1470\n",
      "Epoch 21/30\n",
      "3770/3770 [==============================] - 0s 20us/step - loss: 0.1455 - val_loss: 0.1463\n",
      "Epoch 22/30\n",
      "3770/3770 [==============================] - 0s 21us/step - loss: 0.1448 - val_loss: 0.1457\n",
      "Epoch 23/30\n",
      "3770/3770 [==============================] - 0s 18us/step - loss: 0.1442 - val_loss: 0.1452\n",
      "Epoch 24/30\n",
      "3770/3770 [==============================] - 0s 17us/step - loss: 0.1437 - val_loss: 0.1448\n",
      "Epoch 25/30\n",
      "3770/3770 [==============================] - 0s 22us/step - loss: 0.1433 - val_loss: 0.1445\n",
      "Epoch 26/30\n",
      "3770/3770 [==============================] - 0s 22us/step - loss: 0.1430 - val_loss: 0.1442\n",
      "Epoch 27/30\n",
      "3770/3770 [==============================] - 0s 22us/step - loss: 0.1427 - val_loss: 0.1439\n",
      "Epoch 28/30\n",
      "3770/3770 [==============================] - 0s 18us/step - loss: 0.1424 - val_loss: 0.1437\n",
      "Epoch 29/30\n",
      "3770/3770 [==============================] - 0s 18us/step - loss: 0.1421 - val_loss: 0.1435\n",
      "Epoch 30/30\n",
      "3770/3770 [==============================] - 0s 19us/step - loss: 0.1419 - val_loss: 0.1433\n",
      "Train on 3770 samples, validate on 1616 samples\n",
      "Epoch 1/30\n",
      "3770/3770 [==============================] - 1s 139us/step - loss: 0.6923 - val_loss: 0.6893\n",
      "Epoch 2/30\n",
      "3770/3770 [==============================] - 0s 19us/step - loss: 0.6876 - val_loss: 0.6842\n",
      "Epoch 3/30\n",
      "3770/3770 [==============================] - 0s 20us/step - loss: 0.6823 - val_loss: 0.6785\n",
      "Epoch 4/30\n",
      "3770/3770 [==============================] - 0s 20us/step - loss: 0.6761 - val_loss: 0.6711\n",
      "Epoch 5/30\n",
      "3770/3770 [==============================] - 0s 19us/step - loss: 0.6677 - val_loss: 0.6603\n",
      "Epoch 6/30\n",
      "3770/3770 [==============================] - 0s 21us/step - loss: 0.6549 - val_loss: 0.6429\n",
      "Epoch 7/30\n",
      "3770/3770 [==============================] - 0s 23us/step - loss: 0.6337 - val_loss: 0.6130\n",
      "Epoch 8/30\n",
      "3770/3770 [==============================] - 0s 20us/step - loss: 0.5965 - val_loss: 0.5590\n",
      "Epoch 9/30\n",
      "3770/3770 [==============================] - 0s 19us/step - loss: 0.5298 - val_loss: 0.4650\n",
      "Epoch 10/30\n",
      "3770/3770 [==============================] - 0s 21us/step - loss: 0.4206 - val_loss: 0.3348\n",
      "Epoch 11/30\n",
      "3770/3770 [==============================] - 0s 18us/step - loss: 0.2929 - val_loss: 0.2289\n",
      "Epoch 12/30\n",
      "3770/3770 [==============================] - 0s 19us/step - loss: 0.2086 - val_loss: 0.1829\n",
      "Epoch 13/30\n",
      "3770/3770 [==============================] - 0s 27us/step - loss: 0.1755 - val_loss: 0.1665\n",
      "Epoch 14/30\n",
      "3770/3770 [==============================] - 0s 22us/step - loss: 0.1630 - val_loss: 0.1589\n",
      "Epoch 15/30\n",
      "3770/3770 [==============================] - 0s 24us/step - loss: 0.1568 - val_loss: 0.1544\n",
      "Epoch 16/30\n",
      "3770/3770 [==============================] - 0s 23us/step - loss: 0.1529 - val_loss: 0.1515\n",
      "Epoch 17/30\n",
      "3770/3770 [==============================] - 0s 19us/step - loss: 0.1503 - val_loss: 0.1495\n",
      "Epoch 18/30\n"
     ]
    },
    {
     "name": "stdout",
     "output_type": "stream",
     "text": [
      "3770/3770 [==============================] - 0s 19us/step - loss: 0.1486 - val_loss: 0.1480\n",
      "Epoch 19/30\n",
      "3770/3770 [==============================] - 0s 18us/step - loss: 0.1473 - val_loss: 0.1470\n",
      "Epoch 20/30\n",
      "3770/3770 [==============================] - 0s 17us/step - loss: 0.1464 - val_loss: 0.1462\n",
      "Epoch 21/30\n",
      "3770/3770 [==============================] - 0s 20us/step - loss: 0.1457 - val_loss: 0.1456\n",
      "Epoch 22/30\n",
      "3770/3770 [==============================] - 0s 22us/step - loss: 0.1451 - val_loss: 0.1450\n",
      "Epoch 23/30\n",
      "3770/3770 [==============================] - 0s 19us/step - loss: 0.1446 - val_loss: 0.1446\n",
      "Epoch 24/30\n",
      "3770/3770 [==============================] - 0s 20us/step - loss: 0.1442 - val_loss: 0.1442\n",
      "Epoch 25/30\n",
      "3770/3770 [==============================] - 0s 22us/step - loss: 0.1438 - val_loss: 0.1439\n",
      "Epoch 26/30\n",
      "3770/3770 [==============================] - 0s 19us/step - loss: 0.1435 - val_loss: 0.1436\n",
      "Epoch 27/30\n",
      "3770/3770 [==============================] - 0s 22us/step - loss: 0.1432 - val_loss: 0.1433\n",
      "Epoch 28/30\n",
      "3770/3770 [==============================] - 0s 24us/step - loss: 0.1430 - val_loss: 0.1431\n",
      "Epoch 29/30\n",
      "3770/3770 [==============================] - 0s 25us/step - loss: 0.1428 - val_loss: 0.1429\n",
      "Epoch 30/30\n",
      "3770/3770 [==============================] - 0s 25us/step - loss: 0.1426 - val_loss: 0.1427\n",
      "Train on 3770 samples, validate on 1616 samples\n",
      "Epoch 1/30\n",
      "3770/3770 [==============================] - 1s 193us/step - loss: 0.6914 - val_loss: 0.6887\n",
      "Epoch 2/30\n",
      "3770/3770 [==============================] - 0s 24us/step - loss: 0.6872 - val_loss: 0.6843\n",
      "Epoch 3/30\n",
      "3770/3770 [==============================] - 0s 24us/step - loss: 0.6826 - val_loss: 0.6792\n",
      "Epoch 4/30\n",
      "3770/3770 [==============================] - 0s 25us/step - loss: 0.6771 - val_loss: 0.6728\n",
      "Epoch 5/30\n",
      "3770/3770 [==============================] - 0s 21us/step - loss: 0.6701 - val_loss: 0.6643\n",
      "Epoch 6/30\n",
      "3770/3770 [==============================] - 0s 21us/step - loss: 0.6606 - val_loss: 0.6522\n",
      "Epoch 7/30\n",
      "3770/3770 [==============================] - 0s 24us/step - loss: 0.6466 - val_loss: 0.6333\n",
      "Epoch 8/30\n",
      "3770/3770 [==============================] - 0s 25us/step - loss: 0.6239 - val_loss: 0.6014\n",
      "Epoch 9/30\n",
      "3770/3770 [==============================] - 0s 23us/step - loss: 0.5850 - val_loss: 0.5453\n",
      "Epoch 10/30\n",
      "3770/3770 [==============================] - 0s 22us/step - loss: 0.5165 - val_loss: 0.4497\n",
      "Epoch 11/30\n",
      "3770/3770 [==============================] - 0s 19us/step - loss: 0.4075 - val_loss: 0.3223\n",
      "Epoch 12/30\n",
      "3770/3770 [==============================] - 0s 22us/step - loss: 0.2843 - val_loss: 0.2230\n",
      "Epoch 13/30\n",
      "3770/3770 [==============================] - 0s 24us/step - loss: 0.2054 - val_loss: 0.1806\n",
      "Epoch 14/30\n",
      "3770/3770 [==============================] - 0s 26us/step - loss: 0.1741 - val_loss: 0.1650\n",
      "Epoch 15/30\n",
      "3770/3770 [==============================] - 0s 23us/step - loss: 0.1618 - val_loss: 0.1575\n",
      "Epoch 16/30\n",
      "3770/3770 [==============================] - 0s 20us/step - loss: 0.1555 - val_loss: 0.1531\n",
      "Epoch 17/30\n",
      "3770/3770 [==============================] - 0s 21us/step - loss: 0.1516 - val_loss: 0.1502\n",
      "Epoch 18/30\n",
      "3770/3770 [==============================] - 0s 22us/step - loss: 0.1490 - val_loss: 0.1482\n",
      "Epoch 19/30\n",
      "3770/3770 [==============================] - 0s 23us/step - loss: 0.1472 - val_loss: 0.1468\n",
      "Epoch 20/30\n",
      "3770/3770 [==============================] - 0s 20us/step - loss: 0.1459 - val_loss: 0.1458\n",
      "Epoch 21/30\n",
      "3770/3770 [==============================] - 0s 20us/step - loss: 0.1449 - val_loss: 0.1450\n",
      "Epoch 22/30\n",
      "3770/3770 [==============================] - 0s 22us/step - loss: 0.1442 - val_loss: 0.1443\n",
      "Epoch 23/30\n",
      "3770/3770 [==============================] - 0s 21us/step - loss: 0.1436 - val_loss: 0.1438\n",
      "Epoch 24/30\n",
      "3770/3770 [==============================] - 0s 21us/step - loss: 0.1431 - val_loss: 0.1434\n",
      "Epoch 25/30\n",
      "3770/3770 [==============================] - 0s 23us/step - loss: 0.1427 - val_loss: 0.1431\n",
      "Epoch 26/30\n",
      "3770/3770 [==============================] - 0s 19us/step - loss: 0.1423 - val_loss: 0.1428\n",
      "Epoch 27/30\n",
      "3770/3770 [==============================] - 0s 24us/step - loss: 0.1420 - val_loss: 0.1425\n",
      "Epoch 28/30\n",
      "3770/3770 [==============================] - 0s 24us/step - loss: 0.1417 - val_loss: 0.1422\n",
      "Epoch 29/30\n",
      "3770/3770 [==============================] - 0s 23us/step - loss: 0.1415 - val_loss: 0.1420\n",
      "Epoch 30/30\n",
      "3770/3770 [==============================] - 0s 23us/step - loss: 0.1413 - val_loss: 0.1418\n",
      "Train on 3770 samples, validate on 1616 samples\n",
      "Epoch 1/30\n",
      "3770/3770 [==============================] - 1s 193us/step - loss: 0.6927 - val_loss: 0.6894\n",
      "Epoch 2/30\n",
      "3770/3770 [==============================] - 0s 27us/step - loss: 0.6876 - val_loss: 0.6842\n",
      "Epoch 3/30\n",
      "3770/3770 [==============================] - 0s 21us/step - loss: 0.6823 - val_loss: 0.6785\n",
      "Epoch 4/30\n",
      "3770/3770 [==============================] - 0s 27us/step - loss: 0.6762 - val_loss: 0.6716\n",
      "Epoch 5/30\n",
      "3770/3770 [==============================] - 0s 23us/step - loss: 0.6685 - val_loss: 0.6621\n",
      "Epoch 6/30\n",
      "3770/3770 [==============================] - 0s 25us/step - loss: 0.6577 - val_loss: 0.6483\n",
      "Epoch 7/30\n",
      "3770/3770 [==============================] - 0s 24us/step - loss: 0.6414 - val_loss: 0.6262\n",
      "Epoch 8/30\n",
      "3770/3770 [==============================] - 0s 23us/step - loss: 0.6146 - val_loss: 0.5883\n",
      "Epoch 9/30\n",
      "3770/3770 [==============================] - 0s 25us/step - loss: 0.5677 - val_loss: 0.5210\n",
      "Epoch 10/30\n",
      "3770/3770 [==============================] - 0s 24us/step - loss: 0.4861 - val_loss: 0.4119\n",
      "Epoch 11/30\n",
      "3770/3770 [==============================] - 0s 22us/step - loss: 0.3668 - val_loss: 0.2866\n",
      "Epoch 12/30\n",
      "3770/3770 [==============================] - 0s 24us/step - loss: 0.2546 - val_loss: 0.2092\n",
      "Epoch 13/30\n",
      "3770/3770 [==============================] - 0s 23us/step - loss: 0.1965 - val_loss: 0.1795\n",
      "Epoch 14/30\n",
      "3770/3770 [==============================] - 0s 24us/step - loss: 0.1746 - val_loss: 0.1670\n",
      "Epoch 15/30\n",
      "3770/3770 [==============================] - 0s 20us/step - loss: 0.1645 - val_loss: 0.1600\n",
      "Epoch 16/30\n",
      "3770/3770 [==============================] - 0s 22us/step - loss: 0.1584 - val_loss: 0.1554\n",
      "Epoch 17/30\n",
      "3770/3770 [==============================] - 0s 24us/step - loss: 0.1543 - val_loss: 0.1523\n",
      "Epoch 18/30\n",
      "3770/3770 [==============================] - 0s 24us/step - loss: 0.1515 - val_loss: 0.1501\n",
      "Epoch 19/30\n",
      "3770/3770 [==============================] - 0s 23us/step - loss: 0.1495 - val_loss: 0.1485\n",
      "Epoch 20/30\n",
      "3770/3770 [==============================] - 0s 23us/step - loss: 0.1481 - val_loss: 0.1473\n",
      "Epoch 21/30\n",
      "3770/3770 [==============================] - 0s 24us/step - loss: 0.1470 - val_loss: 0.1464\n",
      "Epoch 22/30\n",
      "3770/3770 [==============================] - 0s 21us/step - loss: 0.1462 - val_loss: 0.1457\n",
      "Epoch 23/30\n",
      "3770/3770 [==============================] - 0s 21us/step - loss: 0.1455 - val_loss: 0.1451\n",
      "Epoch 24/30\n",
      "3770/3770 [==============================] - 0s 22us/step - loss: 0.1449 - val_loss: 0.1446\n",
      "Epoch 25/30\n",
      "3770/3770 [==============================] - 0s 27us/step - loss: 0.1445 - val_loss: 0.1441\n",
      "Epoch 26/30\n",
      "3770/3770 [==============================] - 0s 22us/step - loss: 0.1440 - val_loss: 0.1438\n",
      "Epoch 27/30\n",
      "3770/3770 [==============================] - 0s 20us/step - loss: 0.1437 - val_loss: 0.1434\n",
      "Epoch 28/30\n",
      "3770/3770 [==============================] - 0s 19us/step - loss: 0.1434 - val_loss: 0.1431\n",
      "Epoch 29/30\n",
      "3770/3770 [==============================] - 0s 21us/step - loss: 0.1431 - val_loss: 0.1429\n",
      "Epoch 30/30\n",
      "3770/3770 [==============================] - 0s 20us/step - loss: 0.1429 - val_loss: 0.1426\n"
     ]
    }
   ],
   "source": [
    "from keras.layers import Input, Dense\n",
    "from keras.models import Model\n",
    "\n",
    "N = 5   ### Number of autoencoders used.\n",
    "\n",
    "enc_list = []\n",
    "\n",
    "for i in range(N):\n",
    "    # this is our input placeholder\n",
    "    input_img = Input(shape=(115,))\n",
    "\n",
    "    # \"encoded\" is the encoded representation of the input\n",
    "    encoded = Dense(64, activation='relu')(input_img)\n",
    "    encoded = Dense(32, activation='relu')(encoded)\n",
    "\n",
    "    # \"decoded\" is the lossy reconstruction of the input\n",
    "    decoded = Dense(64, activation='relu')(encoded)\n",
    "    decoded = Dense(115, activation='sigmoid')(decoded)\n",
    "\n",
    "    # this model maps an input to its reconstruction\n",
    "    autoencoder = Model(input_img, decoded)\n",
    "    autoencoder.compile(optimizer='adadelta', loss='binary_crossentropy')\n",
    "\n",
    "    enc_list.append(autoencoder)\n",
    "\n",
    "# from sklearn.model_selection import StratifiedShuffleSplit\n",
    "# data_split_obj = StratifiedShuffleSplit(n_splits=n, test_size=0.0)#, random_state=0)\n",
    "# data_split = data_split_obj.get_n_splits(X_train, y_train)\n",
    "\n",
    "data_split = np.array_split(benignTrain, N)\n",
    "l = list(benignTrain)\n",
    "l.remove('class')\n",
    "\n",
    "\n",
    "for i in range(N):\n",
    "    bT = data_split[i]\n",
    "    X = bT[l]\n",
    "    y = bT['class']\n",
    "    X = normalize(X)\n",
    "\n",
    "    X_train, X_test, y_train, y_test = train_test_split(X, y, test_size=0.3)#, random_state=0)\n",
    "\n",
    "    enc_list[i].fit(X_train, X_train,\n",
    "                    epochs=30,\n",
    "                    batch_size=1024,\n",
    "                    shuffle=True,\n",
    "                    validation_data=(X_test, X_test))\n",
    "\n",
    "n = len(Xval)\n",
    "ypredval = [[0 for _ in range(len(Xval))] for _ in range(N)]\n",
    "import math\n",
    "\n",
    "for i in range(N):\n",
    "    ytemp = enc_list[i].predict(Xval)\n",
    "    n = len(Xval)\n",
    "    l = []\n",
    "\n",
    "    for j in range(n):\n",
    "        temp = metrics.mean_squared_error(Xval[j], ytemp[j]) ** 0.5\n",
    "        ypredval[i][j] = temp\n",
    "\n",
    "\n",
    "\n",
    "\n"
   ]
  },
  {
   "cell_type": "markdown",
   "metadata": {},
   "source": [
    "## Validation step to find optimal threshold"
   ]
  },
  {
   "cell_type": "code",
   "execution_count": 5,
   "metadata": {
    "collapsed": true,
    "scrolled": false
   },
   "outputs": [],
   "source": [
    "n = len(Xval)\n",
    "ypred = [[0 for _ in range(len(Xval))] for _ in range(N)]\n",
    "import math\n",
    "\n",
    "for i in range(N):\n",
    "    ytemp = enc_list[i].predict(Xval)\n",
    "    n = len(Xval)\n",
    "    #l = []\n",
    "\n",
    "    for j in range(n):\n",
    "        temp = metrics.mean_squared_error(Xval[j], ytemp[j]) ** 0.5\n",
    "        ypred[i][j] = temp"
   ]
  },
  {
   "cell_type": "code",
   "execution_count": 6,
   "metadata": {
    "scrolled": false
   },
   "outputs": [
    {
     "data": {
      "text/plain": [
       "(491107, 2)"
      ]
     },
     "execution_count": 6,
     "metadata": {},
     "output_type": "execute_result"
    }
   ],
   "source": [
    "l = []\n",
    "ypredval = [0 for _ in range(len(Xval))]\n",
    "\n",
    "for i in range(len(Xval)):\n",
    "    m1 = -1 * np.inf\n",
    "    m2 = np.inf\n",
    "    for j in range(N):\n",
    "        if m1 < ypred[j][i]:\n",
    "            m1 = ypred[j][i]\n",
    "        if m2 > ypred[j][i]:\n",
    "            m2 = ypred[j][i]\n",
    "    ypredval[i] = m1 - m2\n",
    "    \n",
    "    l.append((ypredval[i], yval.iloc[i])) #####################\n",
    "    \n",
    "np.shape(l)\n"
   ]
  },
  {
   "cell_type": "markdown",
   "metadata": {},
   "source": [
    "## Plots for validation threshold"
   ]
  },
  {
   "cell_type": "code",
   "execution_count": 14,
   "metadata": {
    "scrolled": true
   },
   "outputs": [
    {
     "name": "stdout",
     "output_type": "stream",
     "text": [
      "threshold 0.004984590404224232\n"
     ]
    }
   ],
   "source": [
    "\n",
    "rmsedf = pd.DataFrame.from_records(l, columns=['rmse', 'class'])\n",
    "\n",
    "rmsedf.to_csv(\"rmseValidation_Ensemble.csv\")\n",
    "\n",
    "\n",
    "# threshold calcn\n",
    "rdf = rmsedf[rmsedf['class'] == 0]\n",
    "threshold = rdf['rmse'].mean() +  1* rdf['rmse'].std()\n",
    "#threshold = rdf['rmse'].mean()\n",
    "print(\"threshold\", threshold)"
   ]
  },
  {
   "cell_type": "code",
   "execution_count": 15,
   "metadata": {},
   "outputs": [
    {
     "data": {
      "image/png": "[encoded data removed]",
      "text/plain": [
       "<matplotlib.figure.Figure at 0x27356c76588>"
      ]
     },
     "metadata": {},
     "output_type": "display_data"
    }
   ],
   "source": [
    "import matplotlib.pyplot as plt\n",
    "\n",
    "\n",
    "##################### FOR VALIDATION\n",
    "\n",
    "df2 = rmsedf[rmsedf['class'] == 0]\n",
    "df2.to_csv(\"rmseValBenign_Ensemble.csv\")\n",
    "k = range(1, len(df2) + 1)\n",
    "plt.scatter(range(1, len(df2) + 1), df2['rmse'])\n",
    "#plt.plot(k, [df2['rmse'].mean() + 2 * df2['rmse'].std() for _ in k], \"r\")\n",
    "plt.plot(k, [threshold  for _ in k], \"r\")\n",
    "plt.xlabel(\"Instances\")\n",
    "plt.ylabel(\"RMSE\")\n",
    "plt.title(\"RMSE values for Benign Data for Ensemble (N = 5)\")\n",
    "plt.legend([\"Threshold\",\"RMSE value\"])\n",
    "plt.show()"
   ]
  },
  {
   "cell_type": "code",
   "execution_count": 17,
   "metadata": {},
   "outputs": [
    {
     "data": {
      "image/png": "[encoded data removed]",
      "text/plain": [
       "<matplotlib.figure.Figure at 0x273647660f0>"
      ]
     },
     "metadata": {},
     "output_type": "display_data"
    }
   ],
   "source": [
    "df3 = rmsedf[rmsedf['class'] == 1]\n",
    "df3.to_csv(\"rmseValMal_Ensemble.csv\")\n",
    "k = range(1, len(df3) + 1)\n",
    "plt.scatter(k, df3['rmse'])\n",
    "#plt.plot(k, [df2['rmse'].mean() + 2 * df2['rmse'].std() for _ in k], \"r\")\n",
    "plt.plot(k, [threshold  for _ in k], \"r\")\n",
    "plt.xlabel(\"Instances\")\n",
    "plt.ylabel(\"RMSE\")\n",
    "plt.title(\"RMSE values for Malicious Data for Ensemble (N = 5)\")\n",
    "plt.legend([\"Threshold\",\"RMSE value\"])\n",
    "plt.show()\n"
   ]
  },
  {
   "cell_type": "markdown",
   "metadata": {},
   "source": [
    "# Get results for Test Data using threshold"
   ]
  },
  {
   "cell_type": "code",
   "execution_count": 18,
   "metadata": {},
   "outputs": [
    {
     "name": "stdout",
     "output_type": "stream",
     "text": [
      "(491108,)\n"
     ]
    }
   ],
   "source": [
    "\n",
    "n = len(XTest)\n",
    "ypred = [[0 for _ in range(len(XTest))] for _ in range(N)]\n",
    "import math\n",
    "\n",
    "for i in range(N):\n",
    "    ytemp = enc_list[i].predict(XTest)\n",
    "    n = len(XTest)\n",
    "    for j in range(n):\n",
    "        temp = metrics.mean_squared_error(XTest[j], ytemp[j]) ** 0.5\n",
    "        ypred[i][j] = temp\n",
    "\n",
    "ypredtest = [0 for _ in range(len(XTest))]\n",
    "\n",
    "#for i in range(len(Xval)):\n",
    "#    ypredval[i] = max(ypred[i][:])- min(ypred[i][:])\n",
    "# ypredtest = enc_list[1].predict(000)\n",
    "\n",
    "l2 = []\n",
    "\n",
    "for i in range(len(XTest)):\n",
    "    m1 = -1 * np.inf\n",
    "    m2 = np.inf\n",
    "    for j in range(N):\n",
    "        if m1 < ypred[j][i]:\n",
    "            m1 = ypred[j][i]\n",
    "        if m2 > ypred[j][i]:\n",
    "            m2 = ypred[j][i]\n",
    "    ypredtest[i] = m1 - m2\n",
    "    \n",
    "    l2.append((ypredtest[i], yTest.iloc[i])) #####################\n",
    "    \n",
    "np.shape(l)\n",
    "\n",
    "print(np.shape(ypredtest))\n"
   ]
  },
  {
   "cell_type": "code",
   "execution_count": 19,
   "metadata": {},
   "outputs": [
    {
     "name": "stdout",
     "output_type": "stream",
     "text": [
      "(491108, 115)\n",
      "(491108, 2)\n"
     ]
    }
   ],
   "source": [
    "rmsedf2 = pd.DataFrame.from_records(l2, columns=['rmse', 'class'])\n",
    "\n",
    "#rmsedf2.to_csv(\"rmseTest_Ensemble_N.csv\")\n",
    "print(np.shape(XTest))\n",
    "print(np.shape(l2))\n"
   ]
  },
  {
   "cell_type": "code",
   "execution_count": 20,
   "metadata": {},
   "outputs": [
    {
     "data": {
      "image/png": "[encoded data removed]",
      "text/plain": [
       "<matplotlib.figure.Figure at 0x273647940f0>"
      ]
     },
     "metadata": {},
     "output_type": "display_data"
    }
   ],
   "source": [
    "df5 = rmsedf2[rmsedf2['class'] == 0]\n",
    "k = range(1, len(df5) + 1)\n",
    "plt.scatter(k, df5['rmse'])\n",
    "plt.plot(k,[threshold for _ in k],\"r\")                                      #### Same value  as threshold\n",
    "#plt.plot(k, [df3['rmse'].mean() + 2 * df3['rmse'].std() for _ in k], \"r\")\n",
    "plt.xlabel(\"Instances\")\n",
    "plt.ylabel(\"RMSE\")\n",
    "plt.title(\"RMSE values (test) for Benign Data for Ensemble (N = 5)\")\n",
    "plt.legend([\"Threshold\",\"RMSE value\"])\n",
    "plt.show()"
   ]
  },
  {
   "cell_type": "code",
   "execution_count": 21,
   "metadata": {
    "scrolled": true
   },
   "outputs": [
    {
     "data": {
      "image/png": "[encoded data removed]",
      "text/plain": [
       "<matplotlib.figure.Figure at 0x273646a2358>"
      ]
     },
     "metadata": {},
     "output_type": "display_data"
    }
   ],
   "source": [
    "df6 = rmsedf2[rmsedf2['class'] == 1]\n",
    "k = range(1, len(df6) + 1)\n",
    "plt.scatter(k, df6['rmse'])\n",
    "plt.plot(k,[threshold for _ in k],\"r\")                                      #### Same value  as threshold\n",
    "#plt.plot(k, [df3['rmse'].mean() + 2 * df3['rmse'].std() for _ in k], \"r\")\n",
    "plt.xlabel(\"Instances\")\n",
    "plt.ylabel(\"RMSE\")\n",
    "plt.title(\"RMSE values (test) for Malicious Data for Ensemble (N = 5)\")\n",
    "plt.legend([\"Threshold\",\"RMSE value\"])\n",
    "plt.show()"
   ]
  },
  {
   "cell_type": "code",
   "execution_count": 22,
   "metadata": {},
   "outputs": [
    {
     "name": "stdout",
     "output_type": "stream",
     "text": [
      "[[  5988    745]\n",
      " [   170 484205]]\n",
      "             precision    recall  f1-score   support\n",
      "\n",
      "          0       0.97      0.89      0.93      6733\n",
      "          1       1.00      1.00      1.00    484375\n",
      "\n",
      "avg / total       1.00      1.00      1.00    491108\n",
      "\n",
      "6158\n"
     ]
    }
   ],
   "source": [
    "\n",
    "n = len(XTest)\n",
    "m = [0 for _ in range(n)]\n",
    "ct = 0\n",
    "for i in range(n):\n",
    "    if l2[i][0] < threshold:\n",
    "        m[i] = 0\n",
    "        ct += 1\n",
    "    else:\n",
    "        m[i] = 1\n",
    "\n",
    "# print zip(l, yTest)\n",
    "\n",
    "print(metrics.confusion_matrix(yTest, m))\n",
    "print(metrics.classification_report(yTest, m))\n",
    "print(ct)"
   ]
  },
  {
   "cell_type": "code",
   "execution_count": null,
   "metadata": {
    "collapsed": true
   },
   "outputs": [],
   "source": []
  }
 ],
 "metadata": {
  "kernelspec": {
   "display_name": "Python 3",
   "language": "python",
   "name": "python3"
  },
  "language_info": {
   "codemirror_mode": {
    "name": "ipython",
    "version": 3
   },
   "file_extension": ".py",
   "mimetype": "text/x-python",
   "name": "python",
   "nbconvert_exporter": "python",
   "pygments_lexer": "ipython3",
   "version": "3.6.3"
  }
 },
 "nbformat": 4,
 "nbformat_minor": 2
}
