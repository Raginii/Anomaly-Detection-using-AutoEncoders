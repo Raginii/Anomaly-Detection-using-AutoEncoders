{
 "cells": [
  {
   "cell_type": "markdown",
   "metadata": {},
   "source": [
    "# Ensemble Method for N= 3\n"
   ]
  },
  {
   "cell_type": "code",
   "execution_count": 1,
   "metadata": {},
   "outputs": [
    {
     "name": "stdout",
     "output_type": "stream",
     "text": [
      "Data extraction : Success\n"
     ]
    }
   ],
   "source": [
    "import pandas as pd\n",
    "import numpy as np\n",
    "from sklearn.model_selection import train_test_split\n",
    "from sklearn.naive_bayes import GaussianNB\n",
    "from sklearn.model_selection import cross_val_score\n",
    "from sklearn.tree import DecisionTreeClassifier\n",
    "from sklearn.model_selection import GridSearchCV\n",
    "from sklearn.ensemble import RandomForestClassifier\n",
    "from sklearn.datasets import make_classification\n",
    "from time import time\n",
    "from operator import itemgetter\n",
    "from sklearn.svm import SVC\n",
    "from sklearn import metrics\n",
    "\n",
    "#### Get data\n",
    "benign = pd.read_csv('dev1/benign_traffic.csv')\n",
    "benign['class'] = 0\n",
    "\n",
    "g_combo = pd.read_csv('dev1/gafgyt_attacks/combo.csv')\n",
    "g_combo['class'] = 1\n",
    "#print g_combo.columns.values\n",
    "\n",
    "g_junk = pd.read_csv('dev1/gafgyt_attacks/junk.csv')\n",
    "g_junk['class'] = 1\n",
    "#print g_junk.columns.values\n",
    "\n",
    "g_scan = pd.read_csv('dev1/gafgyt_attacks/scan.csv')\n",
    "g_scan['class'] = 1\n",
    "#print g_scan.columns.values\n",
    "\n",
    "g_tcp = pd.read_csv('dev1/gafgyt_attacks/tcp.csv')\n",
    "g_tcp['class'] = 1\n",
    "#print g_tcp.columns.values\n",
    "\n",
    "g_udp = pd.read_csv('dev1/gafgyt_attacks/udp.csv')\n",
    "g_udp['class'] = 1\n",
    "#print g_udp.columns.values\n",
    "\n",
    "m_ack = pd.read_csv('dev1/mirai_attacks/ack.csv')\n",
    "m_ack['class'] = 1\n",
    "#print m_ack.columns.values\n",
    "\n",
    "m_scan = pd.read_csv('dev1/mirai_attacks/scan.csv')\n",
    "m_scan['class'] = 1\n",
    "#print m_scan.columns.values\n",
    "\n",
    "m_syn = pd.read_csv('dev1/mirai_attacks/syn.csv')\n",
    "m_syn['class'] = 1\n",
    "#print m_syn.columns.values\n",
    "\n",
    "m_udp = pd.read_csv('dev1/mirai_attacks/udp.csv')\n",
    "m_udp['class'] = 1\n",
    "#print m_udp.columns.values\n",
    "\n",
    "m_udpplain = pd.read_csv('dev1/mirai_attacks/udpplain.csv')\n",
    "m_udpplain['class'] = 1\n",
    "#print m_udpplain.columns.values\n",
    "\n",
    "print(\"Data extraction : Success\")\n",
    "\n"
   ]
  },
  {
   "cell_type": "code",
   "execution_count": 2,
   "metadata": {},
   "outputs": [
    {
     "name": "stdout",
     "output_type": "stream",
     "text": [
      "26930\n",
      "Data Randomized\n"
     ]
    }
   ],
   "source": [
    "malicious = pd.concat([g_combo, g_junk, g_scan, g_tcp,\n",
    "                     g_udp, m_ack, m_scan, m_syn, m_udp, m_udpplain])\n",
    "\n",
    "from sklearn.utils import shuffle\n",
    "benign = shuffle(benign)\n",
    "malicious = shuffle(malicious)\n",
    "\n",
    "n = len(benign)\n",
    "benignVal = benign[:int(n / 6)]\n",
    "benignTest = benign[int(5 * n / 6):]\n",
    "benignTrain = benign[int(n / 6):int(5 * n / 6)]\n",
    "\n",
    "n = len(malicious)\n",
    "maliciousVal = malicious[:int(n / 2)]\n",
    "maliciousTest = malicious[int(n / 2):]\n",
    "\n",
    "dataTest = pd.concat([benignTest, maliciousTest])\n",
    "dataVal = pd.concat([benignVal, maliciousVal])\n",
    "\n",
    "from sklearn.preprocessing import normalize\n",
    "\n",
    "\n",
    "print(len(benignTrain))\n",
    "print(\"Data Randomized\")\n",
    "\n",
    "l = list(benignTrain)\n",
    "l.remove('class')\n",
    "\n",
    "X = benignTrain[l]\n",
    "y = benignTrain['class']\n",
    "X = normalize(X)\n",
    "\n",
    "Xval = dataVal[l]\n",
    "yval = dataVal['class']\n",
    "Xval = normalize(Xval)\n",
    "\n",
    "XTest = dataTest[l]\n",
    "yTest = dataTest['class']\n",
    "XTest = normalize(XTest)\n",
    "\n",
    "\n",
    "\n",
    "\n",
    "#print(np.shape(X_train), np.shape(X_test), np.shape(y_train), np.shape(y_test))\n",
    "#print(np.shape(dataVal), np.shape(benignTrain))\n"
   ]
  },
  {
   "cell_type": "code",
   "execution_count": 3,
   "metadata": {
    "scrolled": false
   },
   "outputs": [
    {
     "name": "stderr",
     "output_type": "stream",
     "text": [
      "Using TensorFlow backend.\n"
     ]
    },
    {
     "name": "stdout",
     "output_type": "stream",
     "text": [
      "Train on 6283 samples, validate on 2694 samples\n",
      "Epoch 1/30\n",
      "6283/6283 [==============================] - 3s 419us/step - loss: 0.6899 - val_loss: 0.6855\n",
      "Epoch 2/30\n",
      "6283/6283 [==============================] - 0s 26us/step - loss: 0.6826 - val_loss: 0.6771\n",
      "Epoch 3/30\n",
      "6283/6283 [==============================] - 0s 27us/step - loss: 0.6731 - val_loss: 0.6651\n",
      "Epoch 4/30\n",
      "6283/6283 [==============================] - 0s 24us/step - loss: 0.6581 - val_loss: 0.6427\n",
      "Epoch 5/30\n",
      "6283/6283 [==============================] - 0s 25us/step - loss: 0.6273 - val_loss: 0.5901\n",
      "Epoch 6/30\n",
      "6283/6283 [==============================] - 0s 25us/step - loss: 0.5493 - val_loss: 0.4519\n",
      "Epoch 7/30\n",
      "6283/6283 [==============================] - 0s 25us/step - loss: 0.3698 - val_loss: 0.2428\n",
      "Epoch 8/30\n",
      "6283/6283 [==============================] - 0s 25us/step - loss: 0.2053 - val_loss: 0.1701\n",
      "Epoch 9/30\n",
      "6283/6283 [==============================] - 0s 26us/step - loss: 0.1635 - val_loss: 0.1555\n",
      "Epoch 10/30\n",
      "6283/6283 [==============================] - 0s 27us/step - loss: 0.1535 - val_loss: 0.1501\n",
      "Epoch 11/30\n",
      "6283/6283 [==============================] - 0s 24us/step - loss: 0.1493 - val_loss: 0.1474\n",
      "Epoch 12/30\n",
      "6283/6283 [==============================] - 0s 23us/step - loss: 0.1471 - val_loss: 0.1458\n",
      "Epoch 13/30\n",
      "6283/6283 [==============================] - 0s 25us/step - loss: 0.1457 - val_loss: 0.1447\n",
      "Epoch 14/30\n",
      "6283/6283 [==============================] - 0s 21us/step - loss: 0.1448 - val_loss: 0.1439\n",
      "Epoch 15/30\n",
      "6283/6283 [==============================] - 0s 23us/step - loss: 0.1441 - val_loss: 0.1432\n",
      "Epoch 16/30\n",
      "6283/6283 [==============================] - 0s 23us/step - loss: 0.1435 - val_loss: 0.1428\n",
      "Epoch 17/30\n",
      "6283/6283 [==============================] - 0s 22us/step - loss: 0.1431 - val_loss: 0.1424\n",
      "Epoch 18/30\n",
      "6283/6283 [==============================] - 0s 24us/step - loss: 0.1427 - val_loss: 0.1420\n",
      "Epoch 19/30\n",
      "6283/6283 [==============================] - 0s 26us/step - loss: 0.1424 - val_loss: 0.1418\n",
      "Epoch 20/30\n",
      "6283/6283 [==============================] - 0s 25us/step - loss: 0.1421 - val_loss: 0.1415\n",
      "Epoch 21/30\n",
      "6283/6283 [==============================] - 0s 21us/step - loss: 0.1419 - val_loss: 0.1412\n",
      "Epoch 22/30\n",
      "6283/6283 [==============================] - 0s 20us/step - loss: 0.1416 - val_loss: 0.1410\n",
      "Epoch 23/30\n",
      "6283/6283 [==============================] - 0s 23us/step - loss: 0.1414 - val_loss: 0.1408\n",
      "Epoch 24/30\n",
      "6283/6283 [==============================] - 0s 21us/step - loss: 0.1413 - val_loss: 0.1406\n",
      "Epoch 25/30\n",
      "6283/6283 [==============================] - 0s 23us/step - loss: 0.1411 - val_loss: 0.1405\n",
      "Epoch 26/30\n",
      "6283/6283 [==============================] - 0s 20us/step - loss: 0.1409 - val_loss: 0.1403\n",
      "Epoch 27/30\n",
      "6283/6283 [==============================] - 0s 23us/step - loss: 0.1408 - val_loss: 0.1401\n",
      "Epoch 28/30\n",
      "6283/6283 [==============================] - 0s 22us/step - loss: 0.1406 - val_loss: 0.1400\n",
      "Epoch 29/30\n",
      "6283/6283 [==============================] - 0s 22us/step - loss: 0.1405 - val_loss: 0.1399\n",
      "Epoch 30/30\n",
      "6283/6283 [==============================] - 0s 22us/step - loss: 0.1404 - val_loss: 0.1397\n",
      "Train on 6283 samples, validate on 2694 samples\n",
      "Epoch 1/30\n",
      "6283/6283 [==============================] - 1s 93us/step - loss: 0.6906 - val_loss: 0.6854\n",
      "Epoch 2/30\n",
      "6283/6283 [==============================] - 0s 21us/step - loss: 0.6819 - val_loss: 0.6748\n",
      "Epoch 3/30\n",
      "6283/6283 [==============================] - 0s 21us/step - loss: 0.6690 - val_loss: 0.6560\n",
      "Epoch 4/30\n",
      "6283/6283 [==============================] - 0s 23us/step - loss: 0.6433 - val_loss: 0.6121\n",
      "Epoch 5/30\n",
      "6283/6283 [==============================] - 0s 21us/step - loss: 0.5782 - val_loss: 0.4931\n",
      "Epoch 6/30\n",
      "6283/6283 [==============================] - 0s 18us/step - loss: 0.4148 - val_loss: 0.2759\n",
      "Epoch 7/30\n",
      "6283/6283 [==============================] - 0s 20us/step - loss: 0.2257 - val_loss: 0.1766\n",
      "Epoch 8/30\n",
      "6283/6283 [==============================] - 0s 23us/step - loss: 0.1676 - val_loss: 0.1583\n",
      "Epoch 9/30\n",
      "6283/6283 [==============================] - 0s 22us/step - loss: 0.1553 - val_loss: 0.1521\n",
      "Epoch 10/30\n",
      "6283/6283 [==============================] - 0s 21us/step - loss: 0.1505 - val_loss: 0.1489\n",
      "Epoch 11/30\n",
      "6283/6283 [==============================] - 0s 20us/step - loss: 0.1479 - val_loss: 0.1471\n",
      "Epoch 12/30\n",
      "6283/6283 [==============================] - 0s 20us/step - loss: 0.1464 - val_loss: 0.1460\n",
      "Epoch 13/30\n",
      "6283/6283 [==============================] - 0s 22us/step - loss: 0.1453 - val_loss: 0.1451\n",
      "Epoch 14/30\n",
      "6283/6283 [==============================] - 0s 21us/step - loss: 0.1445 - val_loss: 0.1445\n",
      "Epoch 15/30\n",
      "6283/6283 [==============================] - 0s 21us/step - loss: 0.1439 - val_loss: 0.1440\n",
      "Epoch 16/30\n",
      "6283/6283 [==============================] - 0s 21us/step - loss: 0.1435 - val_loss: 0.1435\n",
      "Epoch 17/30\n",
      "6283/6283 [==============================] - 0s 21us/step - loss: 0.1430 - val_loss: 0.1431\n",
      "Epoch 18/30\n",
      "6283/6283 [==============================] - 0s 21us/step - loss: 0.1427 - val_loss: 0.1428\n",
      "Epoch 19/30\n",
      "6283/6283 [==============================] - 0s 21us/step - loss: 0.1424 - val_loss: 0.1425\n",
      "Epoch 20/30\n",
      "6283/6283 [==============================] - 0s 22us/step - loss: 0.1421 - val_loss: 0.1423\n",
      "Epoch 21/30\n",
      "6283/6283 [==============================] - 0s 21us/step - loss: 0.1419 - val_loss: 0.1420\n",
      "Epoch 22/30\n",
      "6283/6283 [==============================] - 0s 22us/step - loss: 0.1416 - val_loss: 0.1418\n",
      "Epoch 23/30\n",
      "6283/6283 [==============================] - 0s 21us/step - loss: 0.1414 - val_loss: 0.1416\n",
      "Epoch 24/30\n",
      "6283/6283 [==============================] - 0s 19us/step - loss: 0.1412 - val_loss: 0.1414\n",
      "Epoch 25/30\n",
      "6283/6283 [==============================] - 0s 21us/step - loss: 0.1410 - val_loss: 0.1413\n",
      "Epoch 26/30\n",
      "6283/6283 [==============================] - 0s 19us/step - loss: 0.1409 - val_loss: 0.1411\n",
      "Epoch 27/30\n",
      "6283/6283 [==============================] - 0s 19us/step - loss: 0.1407 - val_loss: 0.1410\n",
      "Epoch 28/30\n",
      "6283/6283 [==============================] - 0s 19us/step - loss: 0.1406 - val_loss: 0.1408\n",
      "Epoch 29/30\n",
      "6283/6283 [==============================] - 0s 20us/step - loss: 0.1404 - val_loss: 0.1407\n",
      "Epoch 30/30\n",
      "6283/6283 [==============================] - 0s 18us/step - loss: 0.1403 - val_loss: 0.1406\n",
      "Train on 6283 samples, validate on 2693 samples\n",
      "Epoch 1/30\n",
      "6283/6283 [==============================] - 1s 96us/step - loss: 0.6920 - val_loss: 0.6877\n",
      "Epoch 2/30\n",
      "6283/6283 [==============================] - 0s 20us/step - loss: 0.6852 - val_loss: 0.6806\n",
      "Epoch 3/30\n",
      "6283/6283 [==============================] - 0s 20us/step - loss: 0.6775 - val_loss: 0.6712\n",
      "Epoch 4/30\n",
      "6283/6283 [==============================] - 0s 21us/step - loss: 0.6663 - val_loss: 0.6560\n",
      "Epoch 5/30\n",
      "6283/6283 [==============================] - 0s 20us/step - loss: 0.6467 - val_loss: 0.6249\n",
      "Epoch 6/30\n",
      "6283/6283 [==============================] - 0s 18us/step - loss: 0.6023 - val_loss: 0.5461\n",
      "Epoch 7/30\n",
      "6283/6283 [==============================] - 0s 19us/step - loss: 0.4868 - val_loss: 0.3586\n",
      "Epoch 8/30\n",
      "6283/6283 [==============================] - 0s 20us/step - loss: 0.2837 - val_loss: 0.1946\n",
      "Epoch 9/30\n",
      "6283/6283 [==============================] - 0s 20us/step - loss: 0.1768 - val_loss: 0.1603\n",
      "Epoch 10/30\n",
      "6283/6283 [==============================] - 0s 19us/step - loss: 0.1563 - val_loss: 0.1519\n",
      "Epoch 11/30\n",
      "6283/6283 [==============================] - 0s 19us/step - loss: 0.1500 - val_loss: 0.1482\n",
      "Epoch 12/30\n",
      "6283/6283 [==============================] - 0s 19us/step - loss: 0.1471 - val_loss: 0.1462\n",
      "Epoch 13/30\n",
      "6283/6283 [==============================] - 0s 21us/step - loss: 0.1455 - val_loss: 0.1450\n",
      "Epoch 14/30\n",
      "6283/6283 [==============================] - 0s 19us/step - loss: 0.1444 - val_loss: 0.1441\n",
      "Epoch 15/30\n",
      "6283/6283 [==============================] - 0s 18us/step - loss: 0.1437 - val_loss: 0.1435\n",
      "Epoch 16/30\n",
      "6283/6283 [==============================] - 0s 20us/step - loss: 0.1431 - val_loss: 0.1430\n",
      "Epoch 17/30\n",
      "6283/6283 [==============================] - 0s 19us/step - loss: 0.1427 - val_loss: 0.1426\n",
      "Epoch 18/30\n"
     ]
    },
    {
     "name": "stdout",
     "output_type": "stream",
     "text": [
      "6283/6283 [==============================] - 0s 18us/step - loss: 0.1423 - val_loss: 0.1423\n",
      "Epoch 19/30\n",
      "6283/6283 [==============================] - 0s 19us/step - loss: 0.1420 - val_loss: 0.1420\n",
      "Epoch 20/30\n",
      "6283/6283 [==============================] - 0s 20us/step - loss: 0.1417 - val_loss: 0.1418\n",
      "Epoch 21/30\n",
      "6283/6283 [==============================] - 0s 24us/step - loss: 0.1415 - val_loss: 0.1416\n",
      "Epoch 22/30\n",
      "6283/6283 [==============================] - 0s 22us/step - loss: 0.1413 - val_loss: 0.1414\n",
      "Epoch 23/30\n",
      "6283/6283 [==============================] - 0s 21us/step - loss: 0.1411 - val_loss: 0.1412\n",
      "Epoch 24/30\n",
      "6283/6283 [==============================] - 0s 22us/step - loss: 0.1409 - val_loss: 0.1410\n",
      "Epoch 25/30\n",
      "6283/6283 [==============================] - 0s 20us/step - loss: 0.1408 - val_loss: 0.1409\n",
      "Epoch 26/30\n",
      "6283/6283 [==============================] - 0s 19us/step - loss: 0.1406 - val_loss: 0.1407\n",
      "Epoch 27/30\n",
      "6283/6283 [==============================] - 0s 20us/step - loss: 0.1405 - val_loss: 0.1406\n",
      "Epoch 28/30\n",
      "6283/6283 [==============================] - 0s 20us/step - loss: 0.1403 - val_loss: 0.1405\n",
      "Epoch 29/30\n",
      "6283/6283 [==============================] - 0s 20us/step - loss: 0.1402 - val_loss: 0.1403\n",
      "Epoch 30/30\n",
      "6283/6283 [==============================] - 0s 20us/step - loss: 0.1401 - val_loss: 0.1402\n"
     ]
    }
   ],
   "source": [
    "from keras.layers import Input, Dense\n",
    "from keras.models import Model\n",
    "\n",
    "N = 3   ### Number of autoencoders used.\n",
    "\n",
    "enc_list = []\n",
    "\n",
    "for i in range(N):\n",
    "    # this is our input placeholder\n",
    "    input_img = Input(shape=(115,))\n",
    "\n",
    "    # \"encoded\" is the encoded representation of the input\n",
    "    encoded = Dense(64, activation='relu')(input_img)\n",
    "    encoded = Dense(32, activation='relu')(encoded)\n",
    "\n",
    "    # \"decoded\" is the lossy reconstruction of the input\n",
    "    decoded = Dense(64, activation='relu')(encoded)\n",
    "    decoded = Dense(115, activation='sigmoid')(decoded)\n",
    "\n",
    "    # this model maps an input to its reconstruction\n",
    "    autoencoder = Model(input_img, decoded)\n",
    "    autoencoder.compile(optimizer='adadelta', loss='binary_crossentropy')\n",
    "\n",
    "    enc_list.append(autoencoder)\n",
    "\n",
    "# from sklearn.model_selection import StratifiedShuffleSplit\n",
    "# data_split_obj = StratifiedShuffleSplit(n_splits=n, test_size=0.0)#, random_state=0)\n",
    "# data_split = data_split_obj.get_n_splits(X_train, y_train)\n",
    "\n",
    "data_split = np.array_split(benignTrain, N)\n",
    "l = list(benignTrain)\n",
    "l.remove('class')\n",
    "\n",
    "\n",
    "for i in range(N):\n",
    "    bT = data_split[i]\n",
    "    X = bT[l]\n",
    "    y = bT['class']\n",
    "    X = normalize(X)\n",
    "\n",
    "    X_train, X_test, y_train, y_test = train_test_split(X, y, test_size=0.3)#, random_state=0)\n",
    "\n",
    "    enc_list[i].fit(X_train, X_train,\n",
    "                    epochs=30,\n",
    "                    batch_size=1024,\n",
    "                    shuffle=True,\n",
    "                    validation_data=(X_test, X_test))\n",
    "\n",
    "n = len(Xval)\n",
    "ypredval = [[0 for _ in range(len(Xval))] for _ in range(N)]\n",
    "import math\n",
    "\n",
    "for i in range(N):\n",
    "    ytemp = enc_list[i].predict(Xval)\n",
    "    n = len(Xval)\n",
    "    l = []\n",
    "\n",
    "    for j in range(n):\n",
    "        temp = metrics.mean_squared_error(Xval[j], ytemp[j]) ** 0.5\n",
    "        ypredval[i][j] = temp\n",
    "\n",
    "\n",
    "\n",
    "\n"
   ]
  },
  {
   "cell_type": "markdown",
   "metadata": {},
   "source": [
    "## Validation step to find optimal threshold"
   ]
  },
  {
   "cell_type": "code",
   "execution_count": 4,
   "metadata": {
    "collapsed": true,
    "scrolled": false
   },
   "outputs": [],
   "source": [
    "n = len(Xval)\n",
    "ypred = [[0 for _ in range(len(Xval))] for _ in range(N)]\n",
    "import math\n",
    "\n",
    "for i in range(N):\n",
    "    ytemp = enc_list[i].predict(Xval)\n",
    "    n = len(Xval)\n",
    "    #l = []\n",
    "\n",
    "    for j in range(n):\n",
    "        temp = metrics.mean_squared_error(Xval[j], ytemp[j]) ** 0.5\n",
    "        ypred[i][j] = temp"
   ]
  },
  {
   "cell_type": "code",
   "execution_count": 5,
   "metadata": {
    "scrolled": false
   },
   "outputs": [
    {
     "data": {
      "text/plain": [
       "(491107, 2)"
      ]
     },
     "execution_count": 5,
     "metadata": {},
     "output_type": "execute_result"
    }
   ],
   "source": [
    "l = []\n",
    "ypredval = [0 for _ in range(len(Xval))]\n",
    "\n",
    "for i in range(len(Xval)):\n",
    "    m1 = -1 * np.inf\n",
    "    m2 = np.inf\n",
    "    for j in range(N):\n",
    "        if m1 < ypred[j][i]:\n",
    "            m1 = ypred[j][i]\n",
    "        if m2 > ypred[j][i]:\n",
    "            m2 = ypred[j][i]\n",
    "    ypredval[i] = m1 - m2\n",
    "    \n",
    "    l.append((ypredval[i], yval.iloc[i])) #####################\n",
    "    \n",
    "np.shape(l)\n"
   ]
  },
  {
   "cell_type": "markdown",
   "metadata": {},
   "source": [
    "## Plots for validation threshold"
   ]
  },
  {
   "cell_type": "code",
   "execution_count": 6,
   "metadata": {
    "scrolled": true
   },
   "outputs": [
    {
     "name": "stdout",
     "output_type": "stream",
     "text": [
      "threshold 0.002920521824231653\n"
     ]
    }
   ],
   "source": [
    "\n",
    "rmsedf = pd.DataFrame.from_records(l, columns=['rmse', 'class'])\n",
    "\n",
    "rmsedf.to_csv(\"rmseValidation_Ensemble.csv\")\n",
    "\n",
    "\n",
    "# threshold calcn\n",
    "rdf = rmsedf[rmsedf['class'] == 0]\n",
    "threshold = rdf['rmse'].mean() +  2* rdf['rmse'].std()\n",
    "print(\"threshold\", threshold)"
   ]
  },
  {
   "cell_type": "code",
   "execution_count": 7,
   "metadata": {},
   "outputs": [
    {
     "data": {
      "image/png": "[encoded data removed]",
      "text/plain": [
       "<matplotlib.figure.Figure at 0x1d35538bac8>"
      ]
     },
     "metadata": {},
     "output_type": "display_data"
    }
   ],
   "source": [
    "import matplotlib.pyplot as plt\n",
    "\n",
    "\n",
    "##################### FOR VALIDATION\n",
    "\n",
    "df2 = rmsedf[rmsedf['class'] == 0]\n",
    "df2.to_csv(\"rmseValBenign_Ensemble.csv\")\n",
    "k = range(1, len(df2) + 1)\n",
    "plt.scatter(range(1, len(df2) + 1), df2['rmse'])\n",
    "#plt.plot(k, [df2['rmse'].mean() + 2 * df2['rmse'].std() for _ in k], \"r\")\n",
    "plt.plot(k, [threshold  for _ in k], \"r\")\n",
    "plt.xlabel(\"Instances\")\n",
    "plt.ylabel(\"RMSE\")\n",
    "plt.title(\"RMSE values for Benign Data for Ensemble (N = 3)\")\n",
    "plt.legend([\"Threshold\",\"RMSE value\"])\n",
    "plt.show()"
   ]
  },
  {
   "cell_type": "code",
   "execution_count": 14,
   "metadata": {},
   "outputs": [
    {
     "data": {
      "image/png": "[encoded data removed]",
      "text/plain": [
       "<matplotlib.figure.Figure at 0x1d313b715f8>"
      ]
     },
     "metadata": {},
     "output_type": "display_data"
    }
   ],
   "source": [
    "df3 = rmsedf[rmsedf['class'] == 1]\n",
    "df3.to_csv(\"rmseValMal_Ensemble.csv\")\n",
    "k = range(1, len(df3) + 1)\n",
    "plt.scatter(k, df3['rmse'])\n",
    "#plt.plot(k, [df2['rmse'].mean() + 2 * df2['rmse'].std() for _ in k], \"r\")\n",
    "plt.plot(k, [threshold  for _ in k], \"r\")\n",
    "plt.xlabel(\"Instances\")\n",
    "plt.ylabel(\"RMSE\")\n",
    "plt.title(\"RMSE values for Malicious Data for Ensemble (N = 3)\")\n",
    "plt.legend([\"Threshold\",\"RMSE value\"])\n",
    "plt.show()\n"
   ]
  },
  {
   "cell_type": "markdown",
   "metadata": {},
   "source": [
    "# Get results for Test Data using threshold"
   ]
  },
  {
   "cell_type": "code",
   "execution_count": 9,
   "metadata": {},
   "outputs": [
    {
     "name": "stdout",
     "output_type": "stream",
     "text": [
      "(491108,)\n"
     ]
    }
   ],
   "source": [
    "\n",
    "n = len(XTest)\n",
    "ypred = [[0 for _ in range(len(XTest))] for _ in range(N)]\n",
    "import math\n",
    "\n",
    "for i in range(N):\n",
    "    ytemp = enc_list[i].predict(XTest)\n",
    "    n = len(XTest)\n",
    "    for j in range(n):\n",
    "        temp = metrics.mean_squared_error(XTest[j], ytemp[j]) ** 0.5\n",
    "        ypred[i][j] = temp\n",
    "\n",
    "ypredtest = [0 for _ in range(len(XTest))]\n",
    "\n",
    "#for i in range(len(Xval)):\n",
    "#    ypredval[i] = max(ypred[i][:])- min(ypred[i][:])\n",
    "# ypredtest = enc_list[1].predict(000)\n",
    "\n",
    "l2 = []\n",
    "\n",
    "for i in range(len(XTest)):\n",
    "    m1 = -1 * np.inf\n",
    "    m2 = np.inf\n",
    "    for j in range(N):\n",
    "        if m1 < ypred[j][i]:\n",
    "            m1 = ypred[j][i]\n",
    "        if m2 > ypred[j][i]:\n",
    "            m2 = ypred[j][i]\n",
    "    ypredtest[i] = m1 - m2\n",
    "    \n",
    "    l2.append((ypredtest[i], yTest.iloc[i])) #####################\n",
    "    \n",
    "np.shape(l)\n",
    "\n",
    "print(np.shape(ypredtest))\n"
   ]
  },
  {
   "cell_type": "code",
   "execution_count": 10,
   "metadata": {},
   "outputs": [
    {
     "name": "stdout",
     "output_type": "stream",
     "text": [
      "(491108, 115)\n",
      "(491108, 2)\n"
     ]
    }
   ],
   "source": [
    "rmsedf2 = pd.DataFrame.from_records(l2, columns=['rmse', 'class'])\n",
    "\n",
    "rmsedf2.to_csv(\"rmseTest_Ensemble_N.csv\")\n",
    "print(np.shape(XTest))\n",
    "print(np.shape(l2))\n"
   ]
  },
  {
   "cell_type": "code",
   "execution_count": 11,
   "metadata": {},
   "outputs": [
    {
     "data": {
      "image/png": "[encoded data removed]",
      "text/plain": [
       "<matplotlib.figure.Figure at 0x1d36b06c860>"
      ]
     },
     "metadata": {},
     "output_type": "display_data"
    }
   ],
   "source": [
    "df5 = rmsedf2[rmsedf2['class'] == 0]\n",
    "k = range(1, len(df5) + 1)\n",
    "plt.scatter(k, df5['rmse'])\n",
    "plt.plot(k,[threshold for _ in k],\"r\")                                      #### Same value  as threshold\n",
    "#plt.plot(k, [df3['rmse'].mean() + 2 * df3['rmse'].std() for _ in k], \"r\")\n",
    "plt.xlabel(\"Instances\")\n",
    "plt.ylabel(\"RMSE\")\n",
    "plt.title(\"RMSE values (test) for Benign Data for Ensemble (N = 3)\")\n",
    "plt.legend([\"Threshold\",\"RMSE value\"])\n",
    "plt.show()"
   ]
  },
  {
   "cell_type": "code",
   "execution_count": 12,
   "metadata": {
    "scrolled": true
   },
   "outputs": [
    {
     "data": {
      "image/png": "[encoded data removed]",
      "text/plain": [
       "<matplotlib.figure.Figure at 0x1d373699ac8>"
      ]
     },
     "metadata": {},
     "output_type": "display_data"
    }
   ],
   "source": [
    "df6 = rmsedf2[rmsedf2['class'] == 1]\n",
    "k = range(1, len(df6) + 1)\n",
    "plt.scatter(k, df6['rmse'])\n",
    "plt.plot(k,[threshold for _ in k],\"r\")                                      #### Same value  as threshold\n",
    "#plt.plot(k, [df3['rmse'].mean() + 2 * df3['rmse'].std() for _ in k], \"r\")\n",
    "plt.xlabel(\"Instances\")\n",
    "plt.ylabel(\"RMSE\")\n",
    "plt.title(\"RMSE values (test) for Malicious Data for Ensemble (N = 3)\")\n",
    "plt.legend([\"Threshold\",\"RMSE value\"])\n",
    "plt.show()"
   ]
  },
  {
   "cell_type": "code",
   "execution_count": 13,
   "metadata": {},
   "outputs": [
    {
     "name": "stdout",
     "output_type": "stream",
     "text": [
      "[[  6673     60]\n",
      " [215223 269152]]\n",
      "             precision    recall  f1-score   support\n",
      "\n",
      "          0       0.03      0.99      0.06      6733\n",
      "          1       1.00      0.56      0.71    484375\n",
      "\n",
      "avg / total       0.99      0.56      0.71    491108\n",
      "\n",
      "221896\n"
     ]
    }
   ],
   "source": [
    "\n",
    "n = len(XTest)\n",
    "m = [0 for _ in range(n)]\n",
    "ct = 0\n",
    "for i in range(n):\n",
    "    if l2[i][0] < threshold:\n",
    "        m[i] = 0\n",
    "        ct += 1\n",
    "    else:\n",
    "        m[i] = 1\n",
    "\n",
    "# print zip(l, yTest)\n",
    "\n",
    "print(metrics.confusion_matrix(yTest, m))\n",
    "print(metrics.classification_report(yTest, m))\n",
    "print(ct)"
   ]
  },
  {
   "cell_type": "code",
   "execution_count": null,
   "metadata": {
    "collapsed": true
   },
   "outputs": [],
   "source": []
  }
 ],
 "metadata": {
  "kernelspec": {
   "display_name": "Python 3",
   "language": "python",
   "name": "python3"
  },
  "language_info": {
   "codemirror_mode": {
    "name": "ipython",
    "version": 3
   },
   "file_extension": ".py",
   "mimetype": "text/x-python",
   "name": "python",
   "nbconvert_exporter": "python",
   "pygments_lexer": "ipython3",
   "version": "3.6.3"
  }
 },
 "nbformat": 4,
 "nbformat_minor": 2
}
